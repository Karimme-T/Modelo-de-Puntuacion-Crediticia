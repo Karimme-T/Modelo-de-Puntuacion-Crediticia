{
 "cells": [
  {
   "cell_type": "code",
   "execution_count": 18,
   "id": "1cd7cde4",
   "metadata": {},
   "outputs": [],
   "source": [
    "import re\n",
    "import numpy as np\n",
    "import pandas as pd\n",
    "import matplotlib.pyplot as plt\n",
    "\n",
    "from typing import List, Tuple\n",
    "from sklearn.model_selection import train_test_split\n",
    "from sklearn.preprocessing import OneHotEncoder, StandardScaler\n",
    "from sklearn.compose import ColumnTransformer\n",
    "from sklearn.pipeline import Pipeline\n",
    "from sklearn.impute import SimpleImputer\n",
    "from sklearn.neural_network import MLPClassifier\n",
    "from sklearn.metrics import classification_report, confusion_matrix, ConfusionMatrixDisplay"
   ]
  },
  {
   "cell_type": "code",
   "execution_count": 19,
   "id": "9a53e2fe",
   "metadata": {},
   "outputs": [],
   "source": [
    "_non_num_pat = re.compile(r\"[^0-9\\-\\.,]\")\n",
    "\n",
    "def to_numeric_safe(s: pd.Series) -> pd.Series:\n",
    "    s = s.astype(str).str.replace(r\"\\s+\", \"\", regex=True) \\\n",
    "                     .str.replace(\"_\", \"\", regex=False) \\\n",
    "                     .str.replace(\"%\", \"\", regex=False)\n",
    "    s = s.str.replace(_non_num_pat, \"\", regex=True).str.replace(\",\", \".\", regex=False)\n",
    "    s = pd.to_numeric(s.replace({\"\": np.nan, \".\": np.nan, \"-\": np.nan}), errors=\"coerce\")\n",
    "    return s\n",
    "\n",
    "def parse_credit_history_age(col: pd.Series) -> pd.Series:\n",
    "    \"\"\"\n",
    "    Convertir 'X años y X meses ' en meses.\n",
    "    \"\"\"\n",
    "    def _one(x: str) -> float:\n",
    "        if pd.isna(x): return np.nan\n",
    "        x = str(x).lower().replace(\"_\", \" \").replace(\"-\", \" \")\n",
    "        yrs = re.search(r\"(\\d+)\\s*year\", x)\n",
    "        mos = re.search(r\"(\\d+)\\s*month\", x)\n",
    "        y = int(yrs.group(1)) if yrs else 0\n",
    "        m = int(mos.group(1)) if mos else 0\n",
    "\n",
    "        if not yrs and not mos:\n",
    "            m_only = re.search(r\"\\d+\", x)\n",
    "            return float(m_only.group(0)) if m_only else np.nan\n",
    "        return float(y * 12 + m)\n",
    "    return col.apply(_one)\n",
    "\n",
    "def normalize_text(col: pd.Series) -> pd.Series:\n",
    "    return (col.astype(str)\n",
    "              .str.strip()\n",
    "              .str.lower()\n",
    "              .str.replace(\"_\", \" \", regex=False)\n",
    "              .str.replace(r\"[!\\|\\.]+\", \"\", regex=True)\n",
    "              .str.replace(r\"\\s+\", \" \", regex=True)\n",
    "              .replace({\"nan\": np.nan, \"none\": np.nan, \"\": np.nan}))"
   ]
  },
  {
   "cell_type": "code",
   "execution_count": 20,
   "id": "d0d686af",
   "metadata": {},
   "outputs": [],
   "source": [
    "df = pd.read_csv(\"train-3.csv\", low_memory=False)\n",
    "\n",
    "df.columns = (df.columns.str.strip()\n",
    "                        .str.replace(r\"\\s+\", \"_\", regex=True)\n",
    "                        .str.replace(\"__+\", \"_\", regex=True))\n",
    "\n",
    "# Normalizar texto\n",
    "text_like = [\n",
    "    \"Occupation\",\"Type_of_Loan\",\"Payment_Behaviour\",\"Payment_of_Min_Amount\",\n",
    "    \"Credit_Mix\",\"Credit_Score\",\"SSN\",\"Name\",\"Month\",\"Customer_ID\",\"ID\"\n",
    "]\n",
    "for c in [col for col in text_like]:\n",
    "    df[c] = normalize_text(df[c])\n",
    "\n",
    "# Columnas numéricas\n",
    "num_should_be = [\n",
    "    \"Age\",\"Annual_Income\",\"Monthly_Inhand_Salary\",\"Num_Bank_Accounts\",\"Num_Credit_Card\",\n",
    "    \"Interest_Rate\",\"Delay_from_due_date\",\"Num_Credit_Inquiries\",\"Credit_Utilization_Ratio\",\n",
    "    \"Total_EMI_per_month\",\"Amount_invested_monthly\",\"Outstanding_Debt\",\"Monthly_Balance\",\n",
    "    \"Num_of_Loan\",\"Changed_Credit_Limit\"\n",
    "]\n",
    "for c in [col for col in num_should_be]:\n",
    "    df[c] = to_numeric_safe(df[c])\n",
    "\n",
    "# Credit_History_Age -> mois\n",
    "if \"Credit_History_Age\" in df.columns:\n",
    "    df[\"Credit_History_Age_Months\"] = parse_credit_history_age(df[\"Credit_History_Age\"])\n",
    "    df.drop(columns=[\"Credit_History_Age\"], inplace=True)\n",
    "\n",
    "# Estandarización\n",
    "if \"Payment_of_Min_Amount\" in df.columns:\n",
    "    df[\"Payment_of_Min_Amount\"] = df[\"Payment_of_Min_Amount\"].replace({\n",
    "        \"yes\":\"yes\",\"y\":\"yes\",\n",
    "        \"no\":\"no\",\"n\":\"no\",\n",
    "        \"nm\":\"no\" \n",
    "    })\n",
    "\n",
    "if \"Credit_Mix\" in df.columns:\n",
    "    df[\"Credit_Mix\"] = df[\"Credit_Mix\"].replace({\n",
    "        \"good\":\"good\",\"standard\":\"standard\",\"bad\":\"bad\"\n",
    "    })\n",
    "\n",
    "if \"Payment_Behaviour\" in df.columns:\n",
    "    df[\"Payment_Behaviour\"] = df[\"Payment_Behaviour\"].str.replace(r\"(spent|avg|high|low)\", \"\", regex=True).str.strip()\n",
    "    df[\"Payment_Behaviour\"] = df[\"Payment_Behaviour\"].replace({\"\": np.nan})\n",
    "\n",
    "for col in [\"ID\",\"Customer_ID\",\"Name\",\"SSN\",\"Month\"]:\n",
    "    if col in df.columns:\n",
    "        df.drop(columns=[col], inplace=True)"
   ]
  },
  {
   "cell_type": "code",
   "execution_count": 22,
   "id": "f98d5507",
   "metadata": {},
   "outputs": [
    {
     "name": "stdout",
     "output_type": "stream",
     "text": [
      "Detected 6 categorical: ['Occupation', 'Type_of_Loan', 'Num_of_Delayed_Payment', 'Credit_Mix', 'Payment_of_Min_Amount', 'Payment_Behaviour']\n",
      "Detected 16 numerical: ['Age', 'Annual_Income', 'Monthly_Inhand_Salary', 'Num_Bank_Accounts', 'Num_Credit_Card', 'Interest_Rate', 'Num_of_Loan', 'Delay_from_due_date', 'Changed_Credit_Limit', 'Num_Credit_Inquiries'] ...\n"
     ]
    }
   ],
   "source": [
    "\n",
    "X = df.drop(columns=['Credit_Score'])\n",
    "y = df['Credit_Score']\n",
    "\n",
    "\n",
    "cat_cols: List[str] = [c for c in X.columns if X[c].dtype == \"object\"]\n",
    "num_cols: List[str] = [c for c in X.columns if c not in cat_cols]\n",
    "\n",
    "\n",
    "print(f\"Detected {len(cat_cols)} categorical: {cat_cols[:10]}{' ...' if len(cat_cols)>10 else ''}\")\n",
    "print(f\"Detected {len(num_cols)} numerical: {num_cols[:10]}{' ...' if len(num_cols)>10 else ''}\")"
   ]
  },
  {
   "cell_type": "code",
   "execution_count": 23,
   "id": "b41f44e0",
   "metadata": {},
   "outputs": [],
   "source": [
    "# Modelo\n",
    "num_pipe = Pipeline([\n",
    "    (\"imputer\", SimpleImputer(strategy=\"median\")),\n",
    "    (\"scaler\", StandardScaler()),\n",
    "])\n",
    "\n",
    "cat_pipe = Pipeline([\n",
    "    (\"imputer\", SimpleImputer(strategy=\"most_frequent\")),\n",
    "    (\"ohe\", OneHotEncoder(handle_unknown=\"ignore\")),\n",
    "])\n",
    "\n",
    "preprocess = ColumnTransformer([\n",
    "    (\"num\", num_pipe, num_cols),\n",
    "    (\"cat\", cat_pipe, cat_cols),\n",
    "])\n",
    "\n",
    "clf = MLPClassifier(\n",
    "    hidden_layer_sizes=(128, 64),\n",
    "    activation=\"relu\",\n",
    "    solver=\"adam\",\n",
    "    alpha=1e-4,\n",
    "    batch_size=256,\n",
    "    learning_rate=\"adaptive\",\n",
    "    max_iter=200,\n",
    "    early_stopping=True,\n",
    "    n_iter_no_change=15,\n",
    "    random_state=42,\n",
    "    verbose=False\n",
    ")\n",
    "\n",
    "pipe = Pipeline([\n",
    "    (\"prep\", preprocess),\n",
    "    (\"model\", clf),\n",
    "])"
   ]
  },
  {
   "cell_type": "code",
   "execution_count": 24,
   "id": "78236847",
   "metadata": {},
   "outputs": [
    {
     "name": "stdout",
     "output_type": "stream",
     "text": [
      "16 numériques / 6 catégorielles\n"
     ]
    }
   ],
   "source": [
    "\n",
    "assert \"Credit_Score\" in df.columns, \"La colonne cible 'Credit_Score' est introuvable.\"\n",
    "y = df[\"Credit_Score\"].astype(\"category\")\n",
    "X = df.drop(columns=[\"Credit_Score\"])\n",
    "\n",
    "# Détection robuste des types APRÈS nettoyage\n",
    "num_cols = X.select_dtypes(include=[np.number]).columns.tolist()\n",
    "cat_cols = [c for c in X.columns if c not in num_cols]\n",
    "print(f\"{len(num_cols)} numériques / {len(cat_cols)} catégorielles\")"
   ]
  },
  {
   "cell_type": "code",
   "execution_count": 25,
   "id": "0d9f6a80",
   "metadata": {},
   "outputs": [],
   "source": [
    "from sklearn.model_selection import train_test_split\n",
    "from sklearn.pipeline import Pipeline\n",
    "from sklearn.compose import ColumnTransformer\n",
    "from sklearn.preprocessing import OneHotEncoder, StandardScaler\n",
    "from sklearn.impute import SimpleImputer\n",
    "from sklearn.linear_model import LogisticRegression\n",
    "\n",
    "X_train, X_test, y_train, y_test = train_test_split(\n",
    "    X, y, test_size=0.2, stratify=y, random_state=42\n",
    ")\n",
    "\n",
    "cat_pipe = Pipeline(steps=[\n",
    "    (\"imputer\", SimpleImputer(strategy=\"most_frequent\")),\n",
    "    (\"ohe\", OneHotEncoder(handle_unknown=\"ignore\", sparse_output=False))\n",
    "])\n",
    "\n",
    "num_pipe = Pipeline(steps=[\n",
    "    (\"imputer\", SimpleImputer(strategy=\"median\")),\n",
    "    (\"scaler\", StandardScaler())\n",
    "])\n",
    "\n",
    "preproc = ColumnTransformer(\n",
    "    transformers=[\n",
    "        (\"num\", num_pipe, num_cols),\n",
    "        (\"cat\", cat_pipe, cat_cols),\n",
    "    ],\n",
    "    remainder=\"drop\",\n",
    "    n_jobs=None\n",
    ")\n",
    "\n",
    "clf = Pipeline(steps=[\n",
    "    (\"prep\", preproc),\n",
    "    (\"model\", LogisticRegression(\n",
    "        max_iter=2000,\n",
    "        multi_class=\"multinomial\",\n",
    "        class_weight=\"balanced\",\n",
    "        n_jobs=-1\n",
    "    ))\n",
    "])"
   ]
  },
  {
   "cell_type": "code",
   "execution_count": null,
   "id": "1759fa97",
   "metadata": {},
   "outputs": [
    {
     "name": "stderr",
     "output_type": "stream",
     "text": [
      "/Users/karimmetejeda/Documents/MODELOS DE CRÉDITO/Proyecto 1/Modelo-de-Puntuacion-Crediticia/.venv/lib/python3.11/site-packages/sklearn/linear_model/_logistic.py:1272: FutureWarning: 'multi_class' was deprecated in version 1.5 and will be removed in 1.8. From then on, it will always use 'multinomial'. Leave it to its default value to avoid this warning.\n",
      "  warnings.warn(\n"
     ]
    }
   ],
   "source": [
    "clf.fit(X_train, y_train)"
   ]
  },
  {
   "cell_type": "code",
   "execution_count": null,
   "id": "787021b8",
   "metadata": {},
   "outputs": [],
   "source": [
    "from sklearn.metrics import (\n",
    "    classification_report, confusion_matrix,\n",
    "    accuracy_score, precision_score, recall_score, f1_score,\n",
    "    balanced_accuracy_score, cohen_kappa_score, roc_auc_score\n",
    ")\n",
    "\n",
    "# Prédictions\n",
    "y_pred = clf.predict(X_test)"
   ]
  },
  {
   "cell_type": "code",
   "execution_count": null,
   "id": "dbed1096",
   "metadata": {},
   "outputs": [],
   "source": []
  }
 ],
 "metadata": {
  "kernelspec": {
   "display_name": ".venv (3.11.13)",
   "language": "python",
   "name": "python3"
  },
  "language_info": {
   "codemirror_mode": {
    "name": "ipython",
    "version": 3
   },
   "file_extension": ".py",
   "mimetype": "text/x-python",
   "name": "python",
   "nbconvert_exporter": "python",
   "pygments_lexer": "ipython3",
   "version": "3.11.13"
  }
 },
 "nbformat": 4,
 "nbformat_minor": 5
}
